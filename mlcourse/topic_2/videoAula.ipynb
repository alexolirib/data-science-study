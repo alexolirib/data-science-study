{
 "cells": [
  {
   "cell_type": "code",
   "execution_count": 2,
   "id": "bf10c614-a6df-4629-99e6-075f6f1deaf4",
   "metadata": {},
   "outputs": [],
   "source": [
    "# Matplotlib forms basis for visualization in Python\n",
    "import matplotlib.pyplot as plt\n",
    "\n",
    "# We will use the Seaborn library\n",
    "import seaborn as sns\n",
    "\n",
    "sns.set()\n",
    "\n",
    "# Graphics in SVG format are more sharp and legible\n",
    "%config InlineBackend.figure_format = 'svg'\n",
    "\n",
    "# Increase the default plot size and set the color scheme\n",
    "plt.rcParams[\"figure.figsize\"] = (8, 5)\n",
    "plt.rcParams[\"image.cmap\"] = \"viridis\"\n",
    "import pandas as pd\n",
    "# Pegar base dwedados\n",
    "# histograma\n",
    "# matrix\n",
    "# histograma\n",
    "# TSN - Tecnica de distribuição do conjunto de dados\n",
    "# 6:42"
   ]
  },
  {
   "cell_type": "code",
   "execution_count": null,
   "id": "2a1f1b8b-0c9e-43e5-900e-862ac2929e74",
   "metadata": {},
   "outputs": [],
   "source": [
    "DATA_URL = \"https://raw.githubusercontent.com/Yorko/mlcourse.ai/main/data/\"\n",
    "df = pd.read_csv(DATA_URL + \"video_games_sales.csv\").dropna()\n",
    "print(df.shape)"
   ]
  },
  {
   "cell_type": "code",
   "execution_count": null,
   "id": "d19fa038-a997-4fb0-ae4e-ab7467e765d6",
   "metadata": {},
   "outputs": [],
   "source": []
  },
  {
   "cell_type": "code",
   "execution_count": null,
   "id": "f41205dc-9f31-481d-9d83-b28a092b1d48",
   "metadata": {},
   "outputs": [],
   "source": []
  }
 ],
 "metadata": {
  "kernelspec": {
   "display_name": "Python 3 (ipykernel)",
   "language": "python",
   "name": "python3"
  },
  "language_info": {
   "codemirror_mode": {
    "name": "ipython",
    "version": 3
   },
   "file_extension": ".py",
   "mimetype": "text/x-python",
   "name": "python",
   "nbconvert_exporter": "python",
   "pygments_lexer": "ipython3",
   "version": "3.11.3"
  }
 },
 "nbformat": 4,
 "nbformat_minor": 5
}
