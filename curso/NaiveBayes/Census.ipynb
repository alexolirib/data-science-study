{
 "cells": [
  {
   "cell_type": "code",
   "execution_count": 1,
   "id": "d9e9408b-24ba-4126-93a4-2dc75c4da214",
   "metadata": {},
   "outputs": [
    {
     "name": "stderr",
     "output_type": "stream",
     "text": [
      "/var/folders/vq/2hrn0h_n07g09ltbxxy7p30jfw_32m/T/ipykernel_76889/2162110501.py:2: DeprecationWarning: \n",
      "Pyarrow will become a required dependency of pandas in the next major release of pandas (pandas 3.0),\n",
      "(to allow more performant data types, such as the Arrow string type, and better interoperability with other libraries)\n",
      "but was not found to be installed on your system.\n",
      "If this would cause problems for you,\n",
      "please provide us feedback at https://github.com/pandas-dev/pandas/issues/54466\n",
      "        \n",
      "  import pandas as pd\n"
     ]
    }
   ],
   "source": [
    "# importação de arquivo\n",
    "import pandas as pd\n",
    "import numpy as np\n",
    "# visualização de gráficos\n",
    "import seaborn as sns\n",
    "# visualização de gráficos\n",
    "import matplotlib.pyplot as plt\n",
    "# visualizar grafico dinâmico \n",
    "import plotly.express as px\n",
    "# GaussianNB - Nome de uma distirbuição estatistica (usado para problemas genericos\n",
    "from sklearn.naive_bayes import GaussianNB\n",
    "import pickle"
   ]
  },
  {
   "cell_type": "code",
   "execution_count": 5,
   "id": "306e273d-6b3c-4d72-8a3f-bcd0c45ad014",
   "metadata": {},
   "outputs": [],
   "source": [
    "with open('./../base/census.pkl', 'rb') as f:\n",
    "    X_census_treinamento, y_census_treinamento, X_census_teste, y_census_teste = pickle.load(f)"
   ]
  },
  {
   "cell_type": "code",
   "execution_count": 6,
   "id": "bb12a7fa-269a-4b55-9756-659ce1b21fa3",
   "metadata": {},
   "outputs": [
    {
     "data": {
      "text/plain": [
       "((27676, 108), (27676,))"
      ]
     },
     "execution_count": 6,
     "metadata": {},
     "output_type": "execute_result"
    }
   ],
   "source": [
    "X_census_treinamento.shape, y_census_treinamento.shape"
   ]
  },
  {
   "cell_type": "code",
   "execution_count": 7,
   "id": "88075fd3-ab04-45bd-ad72-e21123b28079",
   "metadata": {},
   "outputs": [
    {
     "data": {
      "text/plain": [
       "((4885, 108), (4885,))"
      ]
     },
     "execution_count": 7,
     "metadata": {},
     "output_type": "execute_result"
    }
   ],
   "source": [
    "X_census_teste.shape, y_census_teste.shape"
   ]
  },
  {
   "cell_type": "code",
   "execution_count": 8,
   "id": "6c956753-2898-4a5b-9678-cd80ed6b204e",
   "metadata": {},
   "outputs": [
    {
     "data": {
      "text/plain": [
       "array([' >50K', ' >50K', ' >50K', ..., ' <=50K', ' >50K', ' >50K'],\n",
       "      dtype='<U6')"
      ]
     },
     "execution_count": 8,
     "metadata": {},
     "output_type": "execute_result"
    }
   ],
   "source": [
    "naive_census = GaussianNB()\n",
    "naive_census.fit(X_census_treinamento, y_census_treinamento)\n",
    "previsoes = naive_census.predict(X_census_teste)\n",
    "previsoes"
   ]
  },
  {
   "cell_type": "code",
   "execution_count": 9,
   "id": "529c51cc-5370-4a69-b417-5d44d6bb7e33",
   "metadata": {},
   "outputs": [
    {
     "data": {
      "text/plain": [
       "array([' <=50K', ' <=50K', ' <=50K', ..., ' <=50K', ' <=50K', ' <=50K'],\n",
       "      dtype=object)"
      ]
     },
     "execution_count": 9,
     "metadata": {},
     "output_type": "execute_result"
    }
   ],
   "source": [
    "y_census_teste"
   ]
  },
  {
   "cell_type": "code",
   "execution_count": 12,
   "id": "afc3b679-e2e2-42dc-a511-6530eb75d8f6",
   "metadata": {},
   "outputs": [],
   "source": [
    "from sklearn.metrics import accuracy_score, classification_report\n",
    "from yellowbrick.classifier import ConfusionMatrix"
   ]
  },
  {
   "cell_type": "code",
   "execution_count": 13,
   "id": "6a8ce53c-b589-48f2-bb33-d3b079d70ccf",
   "metadata": {},
   "outputs": [
    {
     "data": {
      "text/plain": [
       "0.4767656090071648"
      ]
     },
     "execution_count": 13,
     "metadata": {},
     "output_type": "execute_result"
    }
   ],
   "source": [
    "accuracy_score(y_census_teste, previsoes) # se não executar o escalonamento aumenta para 70%"
   ]
  },
  {
   "cell_type": "code",
   "execution_count": 14,
   "id": "0fa4d6a9-b4d1-437c-82bf-9f1691413faf",
   "metadata": {},
   "outputs": [
    {
     "data": {
      "text/plain": [
       "0.4767656090071648"
      ]
     },
     "execution_count": 14,
     "metadata": {},
     "output_type": "execute_result"
    },
    {
     "data": {
      "image/png": "[encoded data removed]",
      "text/plain": [
       "<Figure size 800x550 with 1 Axes>"
      ]
     },
     "metadata": {},
     "output_type": "display_data"
    }
   ],
   "source": [
    "cm = ConfusionMatrix(naive_census)\n",
    "cm.fit(X_census_treinamento, y_census_treinamento)\n",
    "cm.score(X_census_teste, y_census_teste)"
   ]
  },
  {
   "cell_type": "code",
   "execution_count": 15,
   "id": "c2913538-c402-4714-8dd1-d8c123a76d7a",
   "metadata": {},
   "outputs": [
    {
     "name": "stdout",
     "output_type": "stream",
     "text": [
      "              precision    recall  f1-score   support\n",
      "\n",
      "       <=50K       0.97      0.32      0.48      3693\n",
      "        >50K       0.31      0.97      0.48      1192\n",
      "\n",
      "    accuracy                           0.48      4885\n",
      "   macro avg       0.64      0.64      0.48      4885\n",
      "weighted avg       0.81      0.48      0.48      4885\n",
      "\n"
     ]
    }
   ],
   "source": [
    "print(classification_report(y_census_teste, previsoes))"
   ]
  },
  {
   "cell_type": "code",
   "execution_count": null,
   "id": "5b548557-6cf9-4ec2-bcd3-68dc51b093a9",
   "metadata": {},
   "outputs": [],
   "source": []
  }
 ],
 "metadata": {
  "kernelspec": {
   "display_name": "Python 3 (ipykernel)",
   "language": "python",
   "name": "python3"
  },
  "language_info": {
   "codemirror_mode": {
    "name": "ipython",
    "version": 3
   },
   "file_extension": ".py",
   "mimetype": "text/x-python",
   "name": "python",
   "nbconvert_exporter": "python",
   "pygments_lexer": "ipython3",
   "version": "3.11.3"
  }
 },
 "nbformat": 4,
 "nbformat_minor": 5
}
