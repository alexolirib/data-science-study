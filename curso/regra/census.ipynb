{
 "cells": [
  {
   "cell_type": "markdown",
   "id": "d3dc4d9c-8aee-4ef5-867e-91ff2ae49e6c",
   "metadata": {},
   "source": [
    "# Majority learner"
   ]
  },
  {
   "cell_type": "code",
   "execution_count": 2,
   "id": "55d63fe3-22af-4f41-ac7f-95059dcb32b1",
   "metadata": {},
   "outputs": [],
   "source": [
    "import Orange"
   ]
  },
  {
   "cell_type": "code",
   "execution_count": 3,
   "id": "b51e6913-3607-41c3-8da7-7b48a832b271",
   "metadata": {},
   "outputs": [],
   "source": [
    "# Titulo da classe , geralmente com ç\n",
    "base_census = Orange.data.Table('../data/bases_de_dados/census_regras.csv')"
   ]
  },
  {
   "cell_type": "code",
   "execution_count": 4,
   "id": "bae4e2c0-fa9d-419d-b0f1-125a6a28a69d",
   "metadata": {},
   "outputs": [
    {
     "data": {
      "text/plain": [
       "[[39, State-gov, 77516, Bachelors, 13, ... | <=50K],\n",
       " [50, Self-emp-not-inc, 83311, Bachelors, 13, ... | <=50K],\n",
       " [38, Private, 215646, HS-grad, 9, ... | <=50K],\n",
       " [53, Private, 234721, 11th, 7, ... | <=50K],\n",
       " [28, Private, 338409, Bachelors, 13, ... | <=50K],\n",
       " ...\n",
       "]"
      ]
     },
     "execution_count": 4,
     "metadata": {},
     "output_type": "execute_result"
    }
   ],
   "source": [
    "base_census"
   ]
  },
  {
   "cell_type": "code",
   "execution_count": 6,
   "id": "8d40f01a-d84c-4ed3-b816-f0c41315cf09",
   "metadata": {},
   "outputs": [
    {
     "data": {
      "text/plain": [
       "[age, workclass, final-weight, education, education-num, marital-status, occupation, relationship, race, sex, capital-gain, capital-loos, hour-per-week, native-country | income]"
      ]
     },
     "execution_count": 6,
     "metadata": {},
     "output_type": "execute_result"
    }
   ],
   "source": [
    "base_census.domain"
   ]
  },
  {
   "cell_type": "code",
   "execution_count": 8,
   "id": "8da5d2b5-0193-4477-a06d-09c0b188a6ea",
   "metadata": {},
   "outputs": [
    {
     "data": {
      "text/plain": [
       "array([0.75919044])"
      ]
     },
     "execution_count": 8,
     "metadata": {},
     "output_type": "execute_result"
    }
   ],
   "source": [
    "# majority - linha base\n",
    "majority = Orange.classification.MajorityLearner()\n",
    "predict = Orange.evaluation.testing.TestOnTestData(base_census, base_census, [majority])\n",
    "Orange.evaluation.CA(predict)"
   ]
  },
  {
   "cell_type": "code",
   "execution_count": null,
   "id": "09d8fd91-ac56-40e8-b0ae-2c1d5f30df28",
   "metadata": {},
   "outputs": [],
   "source": []
  },
  {
   "cell_type": "code",
   "execution_count": null,
   "id": "62b108fa-8bc9-4d27-a330-1da93b692b2b",
   "metadata": {},
   "outputs": [],
   "source": []
  },
  {
   "cell_type": "code",
   "execution_count": null,
   "id": "4c6e5e49-08f7-429d-beca-ac43966fef29",
   "metadata": {},
   "outputs": [],
   "source": []
  },
  {
   "cell_type": "code",
   "execution_count": null,
   "id": "313361fa-c228-4e51-ade5-86c8831dad72",
   "metadata": {},
   "outputs": [],
   "source": []
  }
 ],
 "metadata": {
  "kernelspec": {
   "display_name": "Python 3 (ipykernel)",
   "language": "python",
   "name": "python3"
  },
  "language_info": {
   "codemirror_mode": {
    "name": "ipython",
    "version": 3
   },
   "file_extension": ".py",
   "mimetype": "text/x-python",
   "name": "python",
   "nbconvert_exporter": "python",
   "pygments_lexer": "ipython3",
   "version": "3.11.3"
  }
 },
 "nbformat": 4,
 "nbformat_minor": 5
}
