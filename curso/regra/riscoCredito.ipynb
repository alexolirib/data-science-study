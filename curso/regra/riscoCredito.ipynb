{
 "cells": [
  {
   "cell_type": "code",
   "execution_count": 1,
   "id": "986bbc12-c4ef-49e0-85b5-757f56668825",
   "metadata": {},
   "outputs": [],
   "source": [
    "import Orange"
   ]
  },
  {
   "cell_type": "code",
   "execution_count": 2,
   "id": "3512b887-aecb-4750-81f3-3dfd0d86f51b",
   "metadata": {},
   "outputs": [],
   "source": [
    "# Titulo da classe , geralmente com ç\n",
    "base_risco_credito = Orange.data.Table('../data/bases_de_dados/risco_credito_regras.csv')"
   ]
  },
  {
   "cell_type": "code",
   "execution_count": 3,
   "id": "73784b04-50aa-4cff-a296-7d0091c2138f",
   "metadata": {},
   "outputs": [
    {
     "data": {
      "text/plain": [
       "[[ruim, alta, nenhuma, 0_15 | alto],\n",
       " [desconhecida, alta, nenhuma, 15_35 | alto],\n",
       " [desconhecida, baixa, nenhuma, 15_35 | moderado],\n",
       " [desconhecida, baixa, nenhuma, acima_35 | alto],\n",
       " [desconhecida, baixa, nenhuma, acima_35 | baixo],\n",
       " ...\n",
       "]"
      ]
     },
     "execution_count": 3,
     "metadata": {},
     "output_type": "execute_result"
    }
   ],
   "source": [
    "base_risco_credito"
   ]
  },
  {
   "cell_type": "code",
   "execution_count": 4,
   "id": "fb62d71e-e4c7-49cb-810a-924960453c6d",
   "metadata": {},
   "outputs": [
    {
     "data": {
      "text/plain": [
       "[historia, divida, garantias, renda | risco]"
      ]
     },
     "execution_count": 4,
     "metadata": {},
     "output_type": "execute_result"
    }
   ],
   "source": [
    "base_risco_credito.domain"
   ]
  },
  {
   "cell_type": "code",
   "execution_count": 5,
   "id": "478d3577-a69d-4fa8-a108-ad63a5e32f6f",
   "metadata": {},
   "outputs": [],
   "source": [
    "cn2 = Orange.classification.rules.CN2Learner()\n",
    "rule_risco_credito = cn2(base_risco_credito)"
   ]
  },
  {
   "cell_type": "code",
   "execution_count": 6,
   "id": "692f2046-fb4a-492c-807f-7f5b1ebd1bcd",
   "metadata": {},
   "outputs": [
    {
     "name": "stdout",
     "output_type": "stream",
     "text": [
      "IF renda==0_15 THEN risco=alto \n",
      "IF historia==boa AND divida!=alta THEN risco=baixo \n",
      "IF historia==boa AND garantias!=nenhuma THEN risco=baixo \n",
      "IF historia==boa AND renda!=15_35 THEN risco=baixo \n",
      "IF historia==boa THEN risco=moderado \n",
      "IF divida==alta THEN risco=alto \n",
      "IF historia!=desconhecida THEN risco=moderado \n",
      "IF garantias==adequada THEN risco=baixo \n",
      "IF renda==15_35 THEN risco=moderado \n",
      "IF historia==desconhecida THEN risco=baixo \n",
      "IF TRUE THEN risco=alto \n"
     ]
    }
   ],
   "source": [
    "# vai entrando em cada regra de cima pra baixo\n",
    "for rule in rule_risco_credito.rule_list:\n",
    "    print(rule)"
   ]
  },
  {
   "cell_type": "code",
   "execution_count": 7,
   "id": "73cee36b-a751-47f9-b30b-6da7ec57075f",
   "metadata": {},
   "outputs": [
    {
     "data": {
      "text/plain": [
       "array([1, 0])"
      ]
     },
     "execution_count": 7,
     "metadata": {},
     "output_type": "execute_result"
    }
   ],
   "source": [
    "#  historia boa, divida alta, garantias nenhuma, renda > 35\n",
    "#  historia ruim, divida alta, garantias adequada, renda < 15\n",
    "previsoes = rule_risco_credito([['boa', 'alta', 'nenhuma', 'acima_35'], ['ruim', 'alta', 'adequada', '0_15'] ])\n",
    "\n",
    "previsoes"
   ]
  },
  {
   "cell_type": "code",
   "execution_count": 8,
   "id": "12941a91-1b86-4810-99cf-0efb366efce3",
   "metadata": {},
   "outputs": [
    {
     "data": {
      "text/plain": [
       "DiscreteVariable(name='risco', values=('alto', 'baixo', 'moderado'))"
      ]
     },
     "execution_count": 8,
     "metadata": {},
     "output_type": "execute_result"
    }
   ],
   "source": [
    "# 0 - alto\n",
    "# 1 - baixo\n",
    "# 2 - moderados\n",
    "rule_risco_credito.domain.class_var"
   ]
  },
  {
   "cell_type": "code",
   "execution_count": 9,
   "id": "50ac6a90-d9d9-4bb4-ba1e-0c34e7759861",
   "metadata": {},
   "outputs": [
    {
     "name": "stdout",
     "output_type": "stream",
     "text": [
      "('alto', 'baixo', 'moderado')\n"
     ]
    }
   ],
   "source": [
    "print(rule_risco_credito.domain.class_var.values)"
   ]
  },
  {
   "cell_type": "code",
   "execution_count": 10,
   "id": "e7354d15-7930-4e94-a529-1ceff8d3d4cd",
   "metadata": {},
   "outputs": [
    {
     "name": "stdout",
     "output_type": "stream",
     "text": [
      "baixo\n",
      "alto\n"
     ]
    }
   ],
   "source": [
    "for i in previsoes:\n",
    "    print(rule_risco_credito.domain.class_var.values[i])"
   ]
  },
  {
   "cell_type": "markdown",
   "id": "dbe160ed-eced-4c41-ae43-41cc4d7f9b74",
   "metadata": {},
   "source": [
    "# Majority learner"
   ]
  },
  {
   "cell_type": "code",
   "execution_count": 11,
   "id": "51835cc8-a3ec-4584-adac-ef283c919074",
   "metadata": {},
   "outputs": [
    {
     "ename": "NameError",
     "evalue": "name 'base_census' is not defined",
     "output_type": "error",
     "traceback": [
      "\u001b[0;31m---------------------------------------------------------------------------\u001b[0m",
      "\u001b[0;31mNameError\u001b[0m                                 Traceback (most recent call last)",
      "Cell \u001b[0;32mIn[11], line 2\u001b[0m\n\u001b[1;32m      1\u001b[0m majority \u001b[38;5;241m=\u001b[39m Orange\u001b[38;5;241m.\u001b[39mclassification\u001b[38;5;241m.\u001b[39mMajorityLearner()\n\u001b[0;32m----> 2\u001b[0m predict \u001b[38;5;241m=\u001b[39m Orange\u001b[38;5;241m.\u001b[39mevaluation\u001b[38;5;241m.\u001b[39mtesting\u001b[38;5;241m.\u001b[39mTestOnTestData(\u001b[43mbase_census\u001b[49m, base_census, [majority])\n\u001b[1;32m      3\u001b[0m Orange\u001b[38;5;241m.\u001b[39mevaluation\u001b[38;5;241m.\u001b[39mCA(predict)\n",
      "\u001b[0;31mNameError\u001b[0m: name 'base_census' is not defined"
     ]
    }
   ],
   "source": [
    "majority = Orange.classification.MajorityLearner()\n",
    "predict = Orange.evaluation.testing.TestOnTestData(base_census, base_census, [majority])\n",
    "Orange.evaluation.CA(predict)"
   ]
  },
  {
   "cell_type": "code",
   "execution_count": null,
   "id": "2c88ab97-aba8-4ec0-b393-f0a8d8c2af94",
   "metadata": {},
   "outputs": [],
   "source": []
  },
  {
   "cell_type": "code",
   "execution_count": null,
   "id": "0aeadab0-8a1c-4834-84ac-0a82c843ba77",
   "metadata": {},
   "outputs": [],
   "source": []
  },
  {
   "cell_type": "code",
   "execution_count": null,
   "id": "bd8ebff3-33bb-44da-8439-f2ab378f1451",
   "metadata": {},
   "outputs": [],
   "source": []
  },
  {
   "cell_type": "code",
   "execution_count": null,
   "id": "f8e8ab17-e799-418e-95b6-c14241c8e3e3",
   "metadata": {},
   "outputs": [],
   "source": []
  },
  {
   "cell_type": "code",
   "execution_count": null,
   "id": "7e73db8c-e9e0-499e-9941-e22842293b51",
   "metadata": {},
   "outputs": [],
   "source": []
  },
  {
   "cell_type": "code",
   "execution_count": null,
   "id": "ffbf6bc7-d1a7-4ec4-a73a-e5d511779483",
   "metadata": {},
   "outputs": [],
   "source": []
  },
  {
   "cell_type": "code",
   "execution_count": null,
   "id": "7b0acb0b-e81d-4aeb-87ed-fda775b5bcd6",
   "metadata": {},
   "outputs": [],
   "source": []
  }
 ],
 "metadata": {
  "kernelspec": {
   "display_name": "Python 3 (ipykernel)",
   "language": "python",
   "name": "python3"
  },
  "language_info": {
   "codemirror_mode": {
    "name": "ipython",
    "version": 3
   },
   "file_extension": ".py",
   "mimetype": "text/x-python",
   "name": "python",
   "nbconvert_exporter": "python",
   "pygments_lexer": "ipython3",
   "version": "3.11.3"
  }
 },
 "nbformat": 4,
 "nbformat_minor": 5
}
